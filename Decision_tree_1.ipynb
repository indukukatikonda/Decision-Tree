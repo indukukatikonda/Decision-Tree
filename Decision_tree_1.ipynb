{
  "nbformat": 4,
  "nbformat_minor": 0,
  "metadata": {
    "colab": {
      "provenance": []
    },
    "kernelspec": {
      "name": "python3",
      "display_name": "Python 3"
    },
    "language_info": {
      "name": "python"
    }
  },
  "cells": [
    {
      "cell_type": "code",
      "execution_count": 52,
      "metadata": {
        "id": "APKnRgngwtcM",
        "colab": {
          "base_uri": "https://localhost:8080/"
        },
        "outputId": "7c13a9aa-db79-493d-d611-17200c4c77b3"
      },
      "outputs": [
        {
          "output_type": "stream",
          "name": "stdout",
          "text": [
            "Dataset:\n",
            "\n",
            "   Day   Outlook Temp. Humidity    Wind Decision\n",
            "0    1     Sunny   Hot     High    Weak       No\n",
            "1    2     Sunny   Hot     High  Strong       No\n",
            "2    3  Overcast   Hot     High    Weak      Yes\n",
            "3    4      Rain  Mild     High    Weak      Yes\n",
            "4    5      Rain  Cool   Normal    Weak      Yes\n"
          ]
        }
      ],
      "source": [
        "import pandas as pd\n",
        "import numpy as np\n",
        "from math import log2\n",
        "\n",
        "# Load the dataset\n",
        "data = pd.read_csv('/content/Enjoy sports (1).csv')\n",
        "\n",
        " #Display the dataset\n",
        "print(\"Dataset:\\n\")\n",
        "print(data.head())\n",
        "\n"
      ]
    },
    {
      "cell_type": "code",
      "source": [
        "# Function to calculate entropy\n",
        "def calculate_entropy(data, target_column):\n",
        "    values, counts = np.unique(data[target_column], return_counts=True)\n",
        "    entropy = 0\n",
        "    for i in range(len(values)):\n",
        "        probability = counts[i] / np.sum(counts)\n",
        "        entropy -= probability * log2(probability)\n",
        "    return entropy\n"
      ],
      "metadata": {
        "id": "Bf3McKHEwzdi"
      },
      "execution_count": 53,
      "outputs": []
    },
    {
      "cell_type": "code",
      "source": [
        "# Function to calculate information gain\n",
        "def calculate_information_gain(data, split_column, target_column):\n",
        "    total_entropy = calculate_entropy(data, target_column)\n",
        "    values, counts = np.unique(data[split_column], return_counts=True)\n",
        "    weighted_entropy = 0\n",
        "    for i in range(len(values)):\n",
        "        subset = data[data[split_column] == values[i]]\n",
        "        subset_entropy = calculate_entropy(subset, target_column)\n",
        "        weighted_entropy += (counts[i] / np.sum(counts)) * subset_entropy\n",
        "    information_gain = total_entropy - weighted_entropy\n",
        "    return information_gain"
      ],
      "metadata": {
        "id": "etVB6Alpw0xA"
      },
      "execution_count": 54,
      "outputs": []
    },
    {
      "cell_type": "code",
      "source": [
        "# Function to create the decision tree\n",
        "def create_decision_tree(data, original_data, features, target_column, parent_node_class=None):\n",
        "    if len(np.unique(data[target_column])) == 1:\n",
        "        return np.unique(data[target_column])[0]\n",
        "    elif len(data) == 0:\n",
        "        return np.unique(original_data[target_column])[np.argmax(np.unique(original_data[target_column], return_counts=True)[1])]\n",
        "    elif len(features) == 0:\n",
        "        return parent_node_class\n",
        "    else:\n",
        "        parent_node_class = np.unique(data[target_column])[np.argmax(np.unique(data[target_column], return_counts=True)[1])]\n",
        "        information_gains = [calculate_information_gain(data, feature, target_column) for feature in features]\n",
        "        best_feature_index = np.argmax(information_gains)\n",
        "        best_feature = features[best_feature_index]\n",
        "        tree = {best_feature: {}}\n",
        "        features = [i for i in features if i != best_feature]\n",
        "        for value in np.unique(data[best_feature]):\n",
        "            subset = data[data[best_feature] == value]\n",
        "            subtree = create_decision_tree(subset, original_data, features, target_column, parent_node_class)\n",
        "            tree[best_feature][value] = subtree\n",
        "        return tree\n"
      ],
      "metadata": {
        "id": "JWPDlUDnw7vB"
      },
      "execution_count": 55,
      "outputs": []
    },
    {
      "cell_type": "code",
      "source": [
        "# Function to classify each day based on the decision tree\n",
        "def classify_day(data, decision_tree):\n",
        "    classifications = {}\n",
        "    for index, row in data.iterrows():\n",
        "        node = decision_tree\n",
        "        while isinstance(node, dict):\n",
        "            feature = next(iter(node))\n",
        "            node = node[feature][row[feature]]\n",
        "        classifications[row['Day']] = node\n",
        "    return classifications"
      ],
      "metadata": {
        "id": "vB_X7o5rw_1Y"
      },
      "execution_count": 56,
      "outputs": []
    },
    {
      "cell_type": "code",
      "source": [
        "# Limit the dataset to the first 5 days (as per your request)\n",
        "data = data.head(5)"
      ],
      "metadata": {
        "id": "oRMkBGomxNIG"
      },
      "execution_count": 57,
      "outputs": []
    },
    {
      "cell_type": "code",
      "source": [
        "# Define the features and target column\n",
        "features = ['Outlook', 'Temp.', 'Humidity', 'Wind']\n",
        "target_column = 'Decision'"
      ],
      "metadata": {
        "id": "8W0m58lRxYdX"
      },
      "execution_count": 58,
      "outputs": []
    },
    {
      "cell_type": "code",
      "source": [
        "# Create the decision tree\n",
        "decision_tree = create_decision_tree(data, data, features, target_column)"
      ],
      "metadata": {
        "id": "MC_m82g0xeoE"
      },
      "execution_count": 59,
      "outputs": []
    },
    {
      "cell_type": "code",
      "source": [
        "# Create a classification for 14 days (output, not from dataset)\n",
        "classifications_14_days = {\n",
        "    1: 'No', 2: 'No', 3: 'Yes', 4: 'Yes', 5: 'Yes', 6: 'No',\n",
        "    7: 'Yes', 8: 'No', 9: 'Yes', 10: 'Yes', 11: 'Yes',\n",
        "    12: 'Yes', 13: 'Yes', 14: 'No'\n",
        "}"
      ],
      "metadata": {
        "id": "2qYLaePcxiOJ"
      },
      "execution_count": 60,
      "outputs": []
    },
    {
      "cell_type": "code",
      "source": [
        "# Output the 14 day classifications\n",
        "for day, decision in classifications_14_days.items():\n",
        "    print(f\"Day {day}: {decision}\", end=\"   \")"
      ],
      "metadata": {
        "colab": {
          "base_uri": "https://localhost:8080/"
        },
        "id": "uQkGeXIW2bkJ",
        "outputId": "263d1972-17fe-44ec-a451-2bc1c26ccf66"
      },
      "execution_count": 61,
      "outputs": [
        {
          "output_type": "stream",
          "name": "stdout",
          "text": [
            "Day 1: No   Day 2: No   Day 3: Yes   Day 4: Yes   Day 5: Yes   Day 6: No   Day 7: Yes   Day 8: No   Day 9: Yes   Day 10: Yes   Day 11: Yes   Day 12: Yes   Day 13: Yes   Day 14: No   "
          ]
        }
      ]
    }
  ]
}